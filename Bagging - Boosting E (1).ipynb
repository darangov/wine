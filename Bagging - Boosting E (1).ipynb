{
 "cells": [
  {
   "cell_type": "markdown",
   "metadata": {},
   "source": [
    "# Metodos de ensamble"
   ]
  },
  {
   "cell_type": "markdown",
   "metadata": {},
   "source": [
    "# Bagging - Boosting"
   ]
  },
  {
   "cell_type": "markdown",
   "metadata": {},
   "source": [
    "## Lectura data informacion"
   ]
  },
  {
   "cell_type": "code",
   "execution_count": 46,
   "metadata": {},
   "outputs": [],
   "source": [
    "# Se toma el data set wine para hacer prediccion de las clases Alcohol y Hue\n",
    "\n",
    "import pandas as pd\n",
    "df_wine = pd.read_csv('wine.csv')\n",
    "df_wine.columns = ['Class label', 'Alcohol','Malic acid', 'Ash',\n",
    "                   'Alcalinity of ash','Magnesium', 'Total phenols',\n",
    "                   'Flavanoids', 'Nonflavanoid phenols',\n",
    "                   'Proanthocyanins','Color intensity', 'Hue',\n",
    "                   'OD280/OD315 of diluted wines', 'Proline']\n",
    "\n",
    "df_wine = df_wine[df_wine['Class label'] != 1] \n",
    "y = df_wine['Class label'].values \n",
    "X = df_wine[['Alcohol', 'Hue']].values"
   ]
  },
  {
   "cell_type": "markdown",
   "metadata": {},
   "source": [
    "## Codificacion de clases y reparticion de la informacion"
   ]
  },
  {
   "cell_type": "code",
   "execution_count": 47,
   "metadata": {},
   "outputs": [],
   "source": [
    "### Se codifican las clases en formato binario y se crea el insumo de entrenamiento \n",
    "### y prueba a tener en cuenta en la modelacion\n",
    "\n",
    "from sklearn.preprocessing import LabelEncoder \n",
    "from sklearn.model_selection import train_test_split \n",
    "le = LabelEncoder() \n",
    "y = le.fit_transform(y)\n",
    "X_train, X_test, y_train, y_test = train_test_split(X, y, test_size=0.40, random_state=1)\n",
    "\n",
    "# Pregunta: Que realiza la funcion LabelEncoder ?"
   ]
  },
  {
   "cell_type": "markdown",
   "metadata": {},
   "source": [
    "## Instanciando BaggingClassifier"
   ]
  },
  {
   "cell_type": "code",
   "execution_count": 48,
   "metadata": {},
   "outputs": [],
   "source": [
    "### scikit-lean tiene implementado el algoritmo BaggingClassifier.\n",
    "### Lo importamos desde el modulo ensemble. \n",
    "\n",
    "from sklearn.ensemble import BaggingClassifier \n",
    "from sklearn.tree import DecisionTreeClassifier\n",
    "\n",
    "tree = DecisionTreeClassifier(criterion='entropy',\n",
    "                              max_depth=3,\n",
    "                              random_state=1)\n",
    "\n",
    "bag = BaggingClassifier(base_estimator=tree,\n",
    "                        n_estimators=500,\n",
    "                        max_samples=1.0,\n",
    "                        max_features=1.0,\n",
    "                        bootstrap=True, \n",
    "                        bootstrap_features=False, n_jobs=1, random_state=1)\n",
    "\n",
    "ada = AdaBoostClassifier(base_estimator=tree, n_estimators=500, random_state=1)\n",
    "\n",
    "### utiliza arboles sin poda como el clasificador base y crear un ensamble a partir de el\n",
    "### con 500 arboles entrenados con diferentes muestras extraidas de la base de datos de entrenamiento.\n"
   ]
  },
  {
   "cell_type": "markdown",
   "metadata": {},
   "source": [
    "## Evaluando rendimientos de un arbol"
   ]
  },
  {
   "cell_type": "code",
   "execution_count": 49,
   "metadata": {},
   "outputs": [
    {
     "name": "stdout",
     "output_type": "stream",
     "text": [
      "Decision tree train/test accuracies 0.944/0.833\n"
     ]
    }
   ],
   "source": [
    "from sklearn.metrics import accuracy_score \n",
    "\n",
    "# entrenar un arbol\n",
    "tree.fit(X_train, y_train)\n",
    "\n",
    "# Realizar inferencia con el arbol\n",
    "y_train_pred = tree.predict(X_train)\n",
    "y_test_pred = tree.predict(X_test)\n",
    "\n",
    "# Estimar el accuracy\n",
    "tree_train = accuracy_score(y_train, y_train_pred)\n",
    "tree_test = accuracy_score(y_test, y_test_pred)\n",
    "\n",
    "print('Decision tree train/test accuracies %.3f/%.3f' % (tree_train, tree_test))\n",
    "\n",
    "# Discusion: El arbol predice correctamente las clases de la base de datos de entrenamiento,\n",
    "# sin embargo tiene dificultades con la base de entrenamiento de prueba."
   ]
  },
  {
   "cell_type": "markdown",
   "metadata": {},
   "source": [
    "## Evaluando rendimientos de un modelo ensamblado de arboles"
   ]
  },
  {
   "cell_type": "code",
   "execution_count": 50,
   "metadata": {},
   "outputs": [
    {
     "name": "stdout",
     "output_type": "stream",
     "text": [
      "Bagging train/test accuracies 0.902/0.930\n"
     ]
    }
   ],
   "source": [
    "# Entrenar un ensamble Bagging\n",
    "bag.fit(X_train, y_train)\n",
    "\n",
    "# Realizar inferencia con el arbol\n",
    "y_train_pred = bag.predict(X_train)\n",
    "y_test_pred = bag.predict(X_test)\n",
    "\n",
    "# Estimar el accuracy\n",
    "tree_train = accuracy_score(y_train, y_train_pred)\n",
    "tree_test = accuracy_score(y_test, y_test_pred)\n",
    "\n",
    "print('Bagging train/test accuracies %.3f/%.3f' % (bag_train, bag_test))\n",
    "\n",
    "# Pregunta: Que difieren estos rendimientos respecto a los del arbol ?"
   ]
  },
  {
   "cell_type": "code",
   "execution_count": 51,
   "metadata": {},
   "outputs": [],
   "source": [
    "import numpy as np\n",
    "\n",
    "x_min = X_train[:, 0].min() - 1 \n",
    "x_max = X_train[:, 0].max() + 1 \n",
    "y_min = X_train[:, 1].min() - 1 \n",
    "y_max = X_train[:, 1].max() + 1\n",
    "xx, yy = np.meshgrid(np.arange(x_min, x_max, 0.1),np.arange(y_min, y_max, 0.1))"
   ]
  },
  {
   "cell_type": "code",
   "execution_count": 52,
   "metadata": {},
   "outputs": [
    {
     "data": {
      "image/png": "[encoded data removed]",
      "text/plain": [
       "<Figure size 576x216 with 2 Axes>"
      ]
     },
     "metadata": {
      "needs_background": "light"
     },
     "output_type": "display_data"
    }
   ],
   "source": [
    "import matplotlib.pyplot as plt\n",
    "\n",
    "f, axarr = plt.subplots(nrows=1, ncols=2,sharex='col',sharey='row',figsize=(8, 3))\n",
    "\n",
    "for idx, clf, tt in zip([0, 1],[tree, bag],['Decision Tree', 'Bagging']):\n",
    "    clf.fit(X_train, y_train)\n",
    "    Z = clf.predict(np.c_[xx.ravel(), yy.ravel()])\n",
    "    Z = Z.reshape(xx.shape)\n",
    "    axarr[idx].contourf(xx, yy, Z, alpha=0.3)\n",
    "    axarr[idx].scatter(X_train[y_train==0, 0],\n",
    "                       X_train[y_train==0, 1],\n",
    "                       c='blue', marker='^')\n",
    "    axarr[idx].scatter(X_train[y_train==1, 0],\n",
    "                       X_train[y_train==1, 1],\n",
    "                       c='red', marker='o')\n",
    "    axarr[idx].set_title(tt)\n",
    "\n",
    "axarr[0].set_ylabel('Alcohol', fontsize=12) \n",
    "plt.text(10.2, -1.2,\n",
    "         s='Hue',ha='center',\n",
    "         va='center',\n",
    "         fontsize=12) \n",
    "plt.show()"
   ]
  },
  {
   "cell_type": "markdown",
   "metadata": {},
   "source": [
    "## Instanciando AdaBoost"
   ]
  },
  {
   "cell_type": "markdown",
   "metadata": {},
   "source": [
    "## Evaluando rendimientos de un modelo ensamblado de arboles (AdaBoost)"
   ]
  },
  {
   "cell_type": "code",
   "execution_count": 53,
   "metadata": {},
   "outputs": [
    {
     "name": "stdout",
     "output_type": "stream",
     "text": [
      "Boosting train/test accuracies 1.000/0.875\n"
     ]
    }
   ],
   "source": [
    "from sklearn.ensemble import AdaBoostClassifier \n",
    "\n",
    "# Instanciar y entrenar un ensamble boosting ada\n",
    "ada.fit(X_train, y_train)\n",
    "\n",
    "# Realizar inferencia con el arbol\n",
    "y_train_pred = ada.predict(X_train)\n",
    "y_test_pred = ada.predict(X_test)\n",
    "\n",
    "# Estimar el accuracy\n",
    "ada_train = accuracy_score(y_train, y_train_pred)\n",
    "ada_test = accuracy_score(y_test, y_test_pred)\n",
    "\n",
    "print('Boosting train/test accuracies %.3f/%.3f' % (ada_train, ada_test))\n",
    "\n",
    "# Pregunta: Que difieren estos rendimientos respecto a los del arbol ?"
   ]
  },
  {
   "cell_type": "code",
   "execution_count": 54,
   "metadata": {},
   "outputs": [
    {
     "data": {
      "image/png": "[encoded data removed]",
      "text/plain": [
       "<Figure size 576x216 with 2 Axes>"
      ]
     },
     "metadata": {
      "needs_background": "light"
     },
     "output_type": "display_data"
    }
   ],
   "source": [
    "import matplotlib.pyplot as plt\n",
    "\n",
    "f, axarr = plt.subplots(nrows=1, ncols=2,sharex='col',sharey='row',figsize=(8, 3))\n",
    "\n",
    "for idx, clf, tt in zip([0, 1],[tree, ada],['Decision Tree', 'AdaBoost']):\n",
    "    clf.fit(X_train, y_train)\n",
    "    Z = clf.predict(np.c_[xx.ravel(), yy.ravel()])\n",
    "    Z = Z.reshape(xx.shape)\n",
    "    axarr[idx].contourf(xx, yy, Z, alpha=0.3)\n",
    "    axarr[idx].scatter(X_train[y_train==0, 0],\n",
    "                       X_train[y_train==0, 1],\n",
    "                       c='blue', marker='^')\n",
    "    axarr[idx].scatter(X_train[y_train==1, 0],\n",
    "                       X_train[y_train==1, 1],\n",
    "                       c='red', marker='o')\n",
    "    axarr[idx].set_title(tt)\n",
    "\n",
    "axarr[0].set_ylabel('Alcohol', fontsize=12) \n",
    "plt.text(10.2, -1.2,\n",
    "         s='Hue',ha='center',\n",
    "         va='center',\n",
    "         fontsize=12) \n",
    "plt.show()"
   ]
  }
 ],
 "metadata": {
  "kernelspec": {
   "display_name": "Python 3",
   "language": "python",
   "name": "python3"
  },
  "language_info": {
   "codemirror_mode": {
    "name": "ipython",
    "version": 3
   },
   "file_extension": ".py",
   "mimetype": "text/x-python",
   "name": "python",
   "nbconvert_exporter": "python",
   "pygments_lexer": "ipython3",
   "version": "3.7.1"
  }
 },
 "nbformat": 4,
 "nbformat_minor": 2
}
